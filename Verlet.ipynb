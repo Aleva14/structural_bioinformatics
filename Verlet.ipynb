{
 "cells": [
  {
   "cell_type": "markdown",
   "metadata": {},
   "source": [
    "# Velocity Verlet integrator"
   ]
  },
  {
   "cell_type": "markdown",
   "metadata": {},
   "source": [
    "Integration scheme as described in Gromacs manual.\n",
    "1. Calculate $\\overrightarrow{x}(t + \\Delta t) = \\overrightarrow{x}(t) + \\overrightarrow{v}\\Delta t + \\frac{1}{2} \\overrightarrow{a}(t)\\Delta t^2$\n",
    "2. Calculate $\\overrightarrow{a}(t + \\Delta t)$ from force field using $\\overrightarrow{x}(t + \\Delta t)$.\n",
    "3. Calculate $\\overrightarrow{v}(t + \\Delta t) = \\overrightarrow{v}(t) + \\frac{1}{2}(\\overrightarrow{a}(t) + \\overrightarrow{a}(t + \\Delta t)) \\Delta t$"
   ]
  },
  {
   "cell_type": "code",
   "execution_count": 1,
   "metadata": {},
   "outputs": [],
   "source": [
    "import numpy as np\n",
    "import matplotlib.pyplot as plt\n",
    "import verlet as v"
   ]
  },
  {
   "cell_type": "markdown",
   "metadata": {},
   "source": [
    "### Example force"
   ]
  },
  {
   "cell_type": "code",
   "execution_count": 2,
   "metadata": {},
   "outputs": [],
   "source": [
    "def gravitation(x, m):\n",
    "    \"\"\"\n",
    "    Naive implementation of gravitational force.\n",
    "    x - coordinates of particles\n",
    "    m - masses of particles\n",
    "    \"\"\"\n",
    "    # print(x)\n",
    "    f = np.zeros(x.shape)\n",
    "    # print(f)\n",
    "    for i in range(len(m)):\n",
    "        for j in range(len(m)):\n",
    "            if i != j:\n",
    "            # print('diff ', np.linalg.norm(x[i, :] - x[j, :]))\n",
    "                \n",
    "                abs_value = m[i] * m[j] / (np.linalg.norm(x[i, :] - x[j, :])) ** 2\n",
    "                direction = x[j, :] - x[i, :]\n",
    "                # print(\"coord \", x[j, :], x[i, :])\n",
    "                # print(\"direction \", direction)\n",
    "                direction = direction / np.linalg.norm(direction)\n",
    "                f[i, :] += abs_value * direction\n",
    "    return f"
   ]
  },
  {
   "cell_type": "markdown",
   "metadata": {},
   "source": [
    "### Planet and star"
   ]
  },
  {
   "cell_type": "code",
   "execution_count": 3,
   "metadata": {},
   "outputs": [],
   "source": [
    "x_0 = np.array([[0, 0, 0], [20, 0, 0]])\n",
    "v_0 = np.array([[0, 0, 0], [0, 7, 0]])\n",
    "m = np.array([10000, 1])"
   ]
  },
  {
   "cell_type": "code",
   "execution_count": 4,
   "metadata": {},
   "outputs": [],
   "source": [
    "T, X = v.velocity_verlet(0, 5, 0.001, lambda x: gravitation(x, m), m, x_0, v_0)"
   ]
  },
  {
   "cell_type": "code",
   "execution_count": 5,
   "metadata": {},
   "outputs": [
    {
     "data": {
      "text/plain": [
       "<matplotlib.legend.Legend at 0x7f37788673c8>"
      ]
     },
     "execution_count": 5,
     "metadata": {},
     "output_type": "execute_result"
    },
    {
     "data": {
      "image/png": "[encoded data removed]",
      "text/plain": [
       "<Figure size 432x288 with 1 Axes>"
      ]
     },
     "metadata": {},
     "output_type": "display_data"
    }
   ],
   "source": [
    "plt.plot(X[0, 0, :], X[0, 1, :])\n",
    "plt.scatter(X[0, 0, -1], X[0, 1, -1], label = \"0\")\n",
    "plt.plot(X[1, 0, :], X[1, 1, :])\n",
    "plt.scatter(X[1, 0, -1], X[1, 1, -1], label = \"1\")\n",
    "plt.legend()"
   ]
  }
 ],
 "metadata": {
  "kernelspec": {
   "display_name": "Python 3",
   "language": "python",
   "name": "python3"
  },
  "language_info": {
   "codemirror_mode": {
    "name": "ipython",
    "version": 3
   },
   "file_extension": ".py",
   "mimetype": "text/x-python",
   "name": "python",
   "nbconvert_exporter": "python",
   "pygments_lexer": "ipython3",
   "version": "3.6.6"
  }
 },
 "nbformat": 4,
 "nbformat_minor": 2
}
